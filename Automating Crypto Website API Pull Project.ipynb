{
 "cells": [
  {
   "cell_type": "code",
   "execution_count": null,
   "metadata": {},
   "outputs": [],
   "source": [
    "from requests import Request, Session\n",
    "from requests.exceptions import ConnectionError, Timeout, TooManyRedirects\n",
    "import json\n",
    "\n",
    "url = 'https://pro-api.coinmarketcap.com/v1/cryptocurrency/listings/latest'\n",
    "parameters = {\n",
    "  'start':'1',\n",
    "  'limit':'15',\n",
    "  'convert':'USD'\n",
    "}\n",
    "headers = {\n",
    "  'Accepts': 'application/json',\n",
    "  'X-CMC_PRO_API_KEY': '75d6d716-b174-47db-8163-3b084a2e5b01',\n",
    "}\n",
    "\n",
    "session = Session()\n",
    "session.headers.update(headers)\n",
    "\n",
    "try:\n",
    "  response = session.get(url, params=parameters)\n",
    "  data = json.loads(response.text)\n",
    "  print(data)\n",
    "except (ConnectionError, Timeout, TooManyRedirects) as e:\n",
    "  print(e)"
   ]
  },
  {
   "cell_type": "code",
   "execution_count": null,
   "metadata": {},
   "outputs": [],
   "source": [
    "type(data)"
   ]
  },
  {
   "cell_type": "code",
   "execution_count": 80,
   "metadata": {},
   "outputs": [],
   "source": [
    "import pandas as pd\n",
    "\n",
    "pd.set_option(\"display.max_columns\", None)"
   ]
  },
  {
   "cell_type": "code",
   "execution_count": null,
   "metadata": {},
   "outputs": [],
   "source": [
    "pd.set_option(\"display.max_columns\", None)\n",
    "pd.set_option(\"display.max_rows\", None)\n",
    "\n",
    "df = pd.json_normalize(data['data'])\n",
    "\n",
    "df['time_stamp'] = pd.to_datetime('now')\n",
    "df\n"
   ]
  },
  {
   "cell_type": "code",
   "execution_count": 82,
   "metadata": {},
   "outputs": [],
   "source": [
    "def api_runner():\n",
    "    import os\n",
    "\n",
    "    global df\n",
    "\n",
    "    from requests import Request, Session\n",
    "    from requests.exceptions import ConnectionError, Timeout, TooManyRedirects\n",
    "    import json\n",
    "\n",
    "    url = 'https://pro-api.coinmarketcap.com/v1/cryptocurrency/listings/latest'\n",
    "    parameters = {\n",
    "    'start':'1',\n",
    "    'limit':'15',\n",
    "    'convert':'USD'\n",
    "    }\n",
    "    headers = {\n",
    "    'Accepts': 'application/json',\n",
    "    'X-CMC_PRO_API_KEY': '75d6d716-b174-47db-8163-3b084a2e5b01',\n",
    "    }\n",
    "\n",
    "    session = Session()\n",
    "    session.headers.update(headers)\n",
    "\n",
    "    try:\n",
    "        response = session.get(url, params=parameters)\n",
    "        data = json.loads(response.text)\n",
    "        #print(data)\n",
    "    except (ConnectionError, Timeout, TooManyRedirects) as e:\n",
    "        print(e)\n",
    "\n",
    "\n",
    "    df = pd.json_normalize(data['data'])\n",
    "    df['time_stamp'] = pd.to_datetime('now')\n",
    "\n",
    "    if not os.path.isfile(r'C:\\Users\\user\\Desktop\\Power BI_tutorials\\Python Videos\\API.csv'):\n",
    "        df.to_csv(r'C:\\Users\\user\\Desktop\\Power BI_tutorials\\Python Videos\\API.csv', header = 'column_names')\n",
    "    else:\n",
    "        df.to_csv(r'C:\\Users\\user\\Desktop\\Power BI_tutorials\\Python Videos\\API.csv', mode = 'a', header = False)"
   ]
  },
  {
   "cell_type": "code",
   "execution_count": null,
   "metadata": {},
   "outputs": [],
   "source": [
    "import os\n",
    "from time import time\n",
    "from time import sleep\n",
    "\n",
    "\n",
    "for i in range(333):\n",
    "    api_runner()\n",
    "    print('Api runner completed successfully')\n",
    "    sleep(60)\n",
    "exit()"
   ]
  },
  {
   "cell_type": "code",
   "execution_count": null,
   "metadata": {},
   "outputs": [],
   "source": [
    "df1 = pd.read_csv(r'C:\\Users\\user\\Desktop\\Power BI_tutorials\\Python Videos\\API.csv')\n",
    "df1"
   ]
  },
  {
   "cell_type": "code",
   "execution_count": null,
   "metadata": {},
   "outputs": [],
   "source": [
    "pd.set_option('display.float_format', lambda x: '%.5f' % x)\n",
    "\n",
    "df1"
   ]
  },
  {
   "cell_type": "code",
   "execution_count": null,
   "metadata": {},
   "outputs": [],
   "source": [
    "df2 = df.groupby('name', sort = False)[['quote.USD.percent_change_1h',\n",
    "       'quote.USD.percent_change_24h', 'quote.USD.percent_change_7d',\n",
    "       'quote.USD.percent_change_30d', 'quote.USD.percent_change_60d',\n",
    "       'quote.USD.percent_change_90d']].mean()\n",
    "df2"
   ]
  },
  {
   "cell_type": "code",
   "execution_count": null,
   "metadata": {},
   "outputs": [],
   "source": [
    "df3 = df2.transpose()\n",
    "df3"
   ]
  },
  {
   "cell_type": "code",
   "execution_count": null,
   "metadata": {},
   "outputs": [],
   "source": [
    "df3.plot(figsize= [20, 10], grid= True, kind= 'line')"
   ]
  },
  {
   "cell_type": "code",
   "execution_count": null,
   "metadata": {},
   "outputs": [],
   "source": [
    "df2"
   ]
  },
  {
   "cell_type": "code",
   "execution_count": null,
   "metadata": {},
   "outputs": [],
   "source": [
    "df4 = df2.stack().reset_index()\n",
    "df4.columns = ['name', 'precent_change', 'values']\n",
    "\n",
    "df4"
   ]
  },
  {
   "cell_type": "code",
   "execution_count": null,
   "metadata": {},
   "outputs": [],
   "source": [
    "df4['precent_change'] = df4['precent_change'].str.replace('quote.USD.percent_change_1h', '1h')\n",
    "df4['precent_change'] = df4['precent_change'].str.replace('quote.USD.percent_change_24h', '24h')\n",
    "df4['precent_change'] = df4['precent_change'].str.replace('quote.USD.percent_change_7d', '7d')\n",
    "df4['precent_change'] = df4['precent_change'].str.replace('quote.USD.percent_change_30d', '30d')\n",
    "df4['precent_change'] = df4['precent_change'].str.replace('quote.USD.percent_change_60d', '60d')\n",
    "df4['precent_change'] = df4['precent_change'].str.replace('quote.USD.percent_change_90d', '90d')\n",
    "df4"
   ]
  },
  {
   "cell_type": "code",
   "execution_count": 94,
   "metadata": {},
   "outputs": [],
   "source": [
    "import seaborn as sns\n",
    "import matplotlib.pyplot as plt"
   ]
  },
  {
   "cell_type": "code",
   "execution_count": null,
   "metadata": {},
   "outputs": [],
   "source": [
    "sns.catplot(x= 'precent_change', y= 'values', hue= 'name', data= df4, kind= 'point', height= 5, aspect= 3)"
   ]
  },
  {
   "cell_type": "code",
   "execution_count": null,
   "metadata": {},
   "outputs": [],
   "source": [
    "df5 = df1[['name', 'quote.USD.price', 'time_stamp']]\n",
    "\n",
    "# df5 = df5[df5['name'] == 'Bitcoin']\n",
    "# df5 = df5[df5['name'].str.contains('Bitcoin')]\n",
    "# df5 = df5[df5['name'].isin(['Bitcoin'])]\n",
    "\n",
    "df5 = df5.query(\"name == 'Bitcoin'\")\n",
    "df5 = df5.rename(columns= {'quote.USD.price': 'USD_price'})\n",
    "df5"
   ]
  },
  {
   "cell_type": "code",
   "execution_count": null,
   "metadata": {},
   "outputs": [],
   "source": [
    "sns.set_theme(style= 'darkgrid', palette= 'flare')\n",
    "sns.lineplot(x= 'time_stamp', y= 'USD_price', hue= 'name', data= df5)\n",
    "\n",
    "# Rotate the x-axis labels and set their size\n",
    "plt.xticks(rotation=45, fontsize=10)"
   ]
  },
  {
   "cell_type": "code",
   "execution_count": null,
   "metadata": {},
   "outputs": [],
   "source": []
  }
 ],
 "metadata": {
  "kernelspec": {
   "display_name": "Python 3",
   "language": "python",
   "name": "python3"
  },
  "language_info": {
   "codemirror_mode": {
    "name": "ipython",
    "version": 3
   },
   "file_extension": ".py",
   "mimetype": "text/x-python",
   "name": "python",
   "nbconvert_exporter": "python",
   "pygments_lexer": "ipython3",
   "version": "3.11.1"
  }
 },
 "nbformat": 4,
 "nbformat_minor": 2
}
